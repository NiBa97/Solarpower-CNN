{
 "cells": [
  {
   "cell_type": "code",
   "execution_count": 8,
   "source": [
    "import pandas as pd\r\n",
    "import numpy as np\r\n",
    "from numpy import array\r\n",
    "from keras.models import Sequential\r\n",
    "from keras.layers import Dense\r\n",
    "from keras.layers import Flatten\r\n",
    "from keras.layers.convolutional import Conv1D\r\n",
    "from keras.layers.convolutional import MaxPooling1D\r\n",
    "\r\n",
    "import matplotlib.pyplot as plt\r\n",
    "\r\n",
    "#Disable GPU\r\n",
    "import os\r\n",
    "os.environ['CUDA_VISIBLE_DEVICES'] = '-1'"
   ],
   "outputs": [],
   "metadata": {}
  },
  {
   "cell_type": "code",
   "execution_count": 41,
   "source": [
    "df = pd.read_csv(\"data/data.csv\",index_col = \"date\")\r\n",
    "df.index = pd.to_datetime(df.index, format=\"%d/%m/%Y\")"
   ],
   "outputs": [],
   "metadata": {}
  },
  {
   "cell_type": "code",
   "execution_count": 42,
   "source": [
    "def customGenerator(data, X_size, y_size):\r\n",
    "    # data = np.reshape(data,  (len(data),1) )\r\n",
    "    X = list()\r\n",
    "    y = list()\r\n",
    "    for i in range(len(data)):\r\n",
    "        n = i + X_size\r\n",
    "        m = n + y_size\r\n",
    "        \r\n",
    "        if m <= len(data):\r\n",
    "            x_input = data[i:n]\r\n",
    "            # x_input = x_input.reshape((len(x_input), 1))\r\n",
    "            X.append(x_input)\r\n",
    "            y.append(data[n:m])\r\n",
    "\r\n",
    "    #Reshape X and y to mathc specification\r\n",
    "    X  = np.reshape(X, (len(X), 1, X_size))\r\n",
    "    y = np.reshape(y, (len(y), 1, y_size))\r\n",
    "    return array(X), array(y)\r\n",
    "data = np.reshape(df.Cumulative_solar_power.values, (-1, 1))\r\n",
    "X, y = customGenerator(data, 4,1)"
   ],
   "outputs": [],
   "metadata": {}
  },
  {
   "cell_type": "code",
   "execution_count": 43,
   "source": [
    "X = X.reshape((3300,4,1))\r\n",
    "h_size = 100\r\n",
    "holdout_X = X[-h_size:]\r\n",
    "X = X[:-h_size]\r\n",
    "holdout_y= y[-h_size:]\r\n",
    "y = y[:-h_size]"
   ],
   "outputs": [],
   "metadata": {}
  },
  {
   "cell_type": "code",
   "execution_count": 44,
   "source": [
    "model = Sequential()\r\n",
    "model.add(Conv1D(filters=4, kernel_size=2, activation='relu', input_shape=(4, 1)))\r\n",
    "model.add(MaxPooling1D(pool_size=2))\r\n",
    "model.add(Flatten())\r\n",
    "model.add(Dense(50, activation='relu'))\r\n",
    "model.add(Dense(1))\r\n",
    "model.compile(optimizer='adam', loss='mse')"
   ],
   "outputs": [],
   "metadata": {}
  },
  {
   "cell_type": "code",
   "execution_count": 45,
   "source": [
    "history = model.fit(X, y, epochs=100, verbose=0, validation_split=0.2)"
   ],
   "outputs": [],
   "metadata": {}
  },
  {
   "cell_type": "code",
   "execution_count": 46,
   "source": [
    "plt.plot(history.history[\"loss\"], label=\"loss\")\r\n",
    "plt.plot(history.history[\"val_loss\"], label =\"val_loss\")\r\n",
    "plt.legend()"
   ],
   "outputs": [
    {
     "output_type": "execute_result",
     "data": {
      "text/plain": [
       "<matplotlib.legend.Legend at 0x20f0885cdc0>"
      ]
     },
     "metadata": {},
     "execution_count": 46
    },
    {
     "output_type": "display_data",
     "data": {
      "text/plain": [
       "<Figure size 432x288 with 1 Axes>"
      ],
      "image/png": "[encoded data removed]"
     },
     "metadata": {
      "needs_background": "light"
     }
    }
   ],
   "metadata": {}
  },
  {
   "cell_type": "code",
   "execution_count": 47,
   "source": [
    "results = list()\r\n",
    "for x in holdout_X:\r\n",
    "    results.append(model.predict(x.reshape(1,4,1)))\r\n",
    "results"
   ],
   "outputs": [
    {
     "output_type": "execute_result",
     "data": {
      "text/plain": [
       "[array([[35411.586]], dtype=float32),\n",
       " array([[35432.25]], dtype=float32),\n",
       " array([[35455.645]], dtype=float32),\n",
       " array([[35463.33]], dtype=float32),\n",
       " array([[35488.67]], dtype=float32),\n",
       " array([[35515.234]], dtype=float32),\n",
       " array([[35540.09]], dtype=float32),\n",
       " array([[35559.223]], dtype=float32),\n",
       " array([[35582.785]], dtype=float32),\n",
       " array([[35605.81]], dtype=float32),\n",
       " array([[35627.66]], dtype=float32),\n",
       " array([[35647.324]], dtype=float32),\n",
       " array([[35668.527]], dtype=float32),\n",
       " array([[35681.293]], dtype=float32),\n",
       " array([[35698.848]], dtype=float32),\n",
       " array([[35707.61]], dtype=float32),\n",
       " array([[35719.984]], dtype=float32),\n",
       " array([[35739.08]], dtype=float32),\n",
       " array([[35755.918]], dtype=float32),\n",
       " array([[35768.22]], dtype=float32),\n",
       " array([[35783.586]], dtype=float32),\n",
       " array([[35805.69]], dtype=float32),\n",
       " array([[35818.453]], dtype=float32),\n",
       " array([[35831.285]], dtype=float32),\n",
       " array([[35849.02]], dtype=float32),\n",
       " array([[35856.594]], dtype=float32),\n",
       " array([[35864.434]], dtype=float32),\n",
       " array([[35872.445]], dtype=float32),\n",
       " array([[35882.816]], dtype=float32),\n",
       " array([[35894.008]], dtype=float32),\n",
       " array([[35901.48]], dtype=float32),\n",
       " array([[35915.387]], dtype=float32),\n",
       " array([[35926.047]], dtype=float32),\n",
       " array([[35942.953]], dtype=float32),\n",
       " array([[35947.176]], dtype=float32),\n",
       " array([[35963.8]], dtype=float32),\n",
       " array([[35981.18]], dtype=float32),\n",
       " array([[35993.473]], dtype=float32),\n",
       " array([[36011.21]], dtype=float32),\n",
       " array([[36012.89]], dtype=float32),\n",
       " array([[36021.617]], dtype=float32),\n",
       " array([[36043.78]], dtype=float32),\n",
       " array([[36060.266]], dtype=float32),\n",
       " array([[36073.75]], dtype=float32),\n",
       " array([[36093.66]], dtype=float32),\n",
       " array([[36110.324]], dtype=float32),\n",
       " array([[36127.348]], dtype=float32),\n",
       " array([[36145.547]], dtype=float32),\n",
       " array([[36163.56]], dtype=float32),\n",
       " array([[36181.582]], dtype=float32),\n",
       " array([[36194.887]], dtype=float32),\n",
       " array([[36212.44]], dtype=float32),\n",
       " array([[36228.285]], dtype=float32),\n",
       " array([[36244.297]], dtype=float32),\n",
       " array([[36249.695]], dtype=float32),\n",
       " array([[36257.89]], dtype=float32),\n",
       " array([[36262.355]], dtype=float32),\n",
       " array([[36277.98]], dtype=float32),\n",
       " array([[36282.56]], dtype=float32),\n",
       " array([[36282.67]], dtype=float32),\n",
       " array([[36291.926]], dtype=float32),\n",
       " array([[36298.758]], dtype=float32),\n",
       " array([[36302.23]], dtype=float32),\n",
       " array([[36306.23]], dtype=float32),\n",
       " array([[36309.055]], dtype=float32),\n",
       " array([[36320.33]], dtype=float32),\n",
       " array([[36325.61]], dtype=float32),\n",
       " array([[36337.51]], dtype=float32),\n",
       " array([[36341.453]], dtype=float32),\n",
       " array([[36344.1]], dtype=float32),\n",
       " array([[36352.996]], dtype=float32),\n",
       " array([[36358.652]], dtype=float32),\n",
       " array([[36369.38]], dtype=float32),\n",
       " array([[36378.215]], dtype=float32),\n",
       " array([[36381.312]], dtype=float32),\n",
       " array([[36386.508]], dtype=float32),\n",
       " array([[36395.05]], dtype=float32),\n",
       " array([[36399.52]], dtype=float32),\n",
       " array([[36405.703]], dtype=float32),\n",
       " array([[36410.53]], dtype=float32),\n",
       " array([[36417.9]], dtype=float32),\n",
       " array([[36419.008]], dtype=float32),\n",
       " array([[36425.727]], dtype=float32),\n",
       " array([[36430.55]], dtype=float32),\n",
       " array([[36439.098]], dtype=float32),\n",
       " array([[36441.22]], dtype=float32),\n",
       " array([[36443.035]], dtype=float32),\n",
       " array([[36447.395]], dtype=float32),\n",
       " array([[36450.223]], dtype=float32),\n",
       " array([[36454.402]], dtype=float32),\n",
       " array([[36457.227]], dtype=float32),\n",
       " array([[36460.234]], dtype=float32),\n",
       " array([[36464.414]], dtype=float32),\n",
       " array([[36467.24]], dtype=float32),\n",
       " array([[36469.066]], dtype=float32),\n",
       " array([[36475.785]], dtype=float32),\n",
       " array([[36482.977]], dtype=float32),\n",
       " array([[36491.16]], dtype=float32),\n",
       " array([[36499.176]], dtype=float32),\n",
       " array([[36507.18]], dtype=float32)]"
      ]
     },
     "metadata": {},
     "execution_count": 47
    }
   ],
   "metadata": {}
  },
  {
   "cell_type": "code",
   "execution_count": 54,
   "source": [
    "plt.plot(np.asarray(results).flatten())\r\n",
    "plt.plot(df.Cumulative_solar_power.values[-h_size:])"
   ],
   "outputs": [
    {
     "output_type": "execute_result",
     "data": {
      "text/plain": [
       "[<matplotlib.lines.Line2D at 0x20f0f925310>]"
      ]
     },
     "metadata": {},
     "execution_count": 54
    },
    {
     "output_type": "display_data",
     "data": {
      "text/plain": [
       "<Figure size 432x288 with 1 Axes>"
      ],
      "image/png": "[encoded data removed]"
     },
     "metadata": {
      "needs_background": "light"
     }
    }
   ],
   "metadata": {}
  },
  {
   "cell_type": "code",
   "execution_count": null,
   "source": [],
   "outputs": [],
   "metadata": {}
  }
 ],
 "metadata": {
  "orig_nbformat": 4,
  "language_info": {
   "name": "python"
  }
 },
 "nbformat": 4,
 "nbformat_minor": 2
}